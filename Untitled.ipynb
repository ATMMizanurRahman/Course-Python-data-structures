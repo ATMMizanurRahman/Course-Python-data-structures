{
 "cells": [
  {
   "cell_type": "code",
   "execution_count": 1,
   "metadata": {},
   "outputs": [
    {
     "name": "stdout",
     "output_type": "stream",
     "text": [
      "3\n"
     ]
    }
   ],
   "source": [
    "a=3.4\n",
    "print(int(a))"
   ]
  },
  {
   "cell_type": "markdown",
   "metadata": {},
   "source": [
    "### nnn=input()\n",
    "n=int(nnn)\n",
    "mmm=input()\n",
    "m=int(mmm)\n",
    "aaa=input()\n",
    "a=int(aaa)\n",
    "bbb=input()\n",
    "b=int(bbb)\n",
    "aa=int(n/m)\n",
    "bb1=(n-aa*m)*b\n",
    "bb2=((aa+1)*m-n)*a\n",
    "if bb1<bb2:\n",
    "    print(bb1)\n",
    "else:\n",
    "    print(bb2)"
   ]
  },
  {
   "cell_type": "code",
   "execution_count": 11,
   "metadata": {},
   "outputs": [
    {
     "name": "stdout",
     "output_type": "stream",
     "text": [
      "a\n",
      "6\n",
      "b\n",
      "a\n",
      "n\n",
      "a\n",
      "n\n",
      "a\n"
     ]
    }
   ],
   "source": [
    "fruit='banana'\n",
    "letter=fruit[1]\n",
    "print(letter)\n",
    "print(len(fruit))\n",
    "for let in fruit:\n",
    "    print(let)"
   ]
  },
  {
   "cell_type": "markdown",
   "metadata": {},
   "source": [
    "#### "
   ]
  },
  {
   "cell_type": "code",
   "execution_count": 13,
   "metadata": {},
   "outputs": [
    {
     "name": "stdout",
     "output_type": "stream",
     "text": [
      "Mont\n",
      " Python\n"
     ]
    }
   ],
   "source": [
    "s='Montry Python'\n",
    "print(s[0:4])\n",
    "print(s[6:100])"
   ]
  },
  {
   "cell_type": "code",
   "execution_count": 18,
   "metadata": {},
   "outputs": [
    {
     "name": "stdout",
     "output_type": "stream",
     "text": [
      "yes\n"
     ]
    }
   ],
   "source": [
    "fruit='banana'\n",
    "if fruit>'Sabab':\n",
    "    print('yes')\n",
    "else:\n",
    "    print('no')"
   ]
  },
  {
   "cell_type": "code",
   "execution_count": 32,
   "metadata": {},
   "outputs": [
    {
     "name": "stdout",
     "output_type": "stream",
     "text": [
      "hello surjo\n"
     ]
    }
   ],
   "source": [
    "gret='HELLO SurJo'\n",
    "a=gret.lower()\n",
    "print(a)\n"
   ]
  },
  {
   "cell_type": "code",
   "execution_count": 26,
   "metadata": {},
   "outputs": [
    {
     "name": "stdout",
     "output_type": "stream",
     "text": [
      "   Hello apple   \n",
      "   Hello banana\n"
     ]
    }
   ],
   "source": [
    "fruit='   Hello banana   '\n",
    "a=fruit.replace('banana','apple')\n",
    "print(a)\n",
    "print(fruit.rstrip())"
   ]
  },
  {
   "cell_type": "code",
   "execution_count": 29,
   "metadata": {},
   "outputs": [
    {
     "ename": "SyntaxError",
     "evalue": "invalid syntax (<ipython-input-29-b1b42f1f0a27>, line 4)",
     "output_type": "error",
     "traceback": [
      "\u001b[1;36m  File \u001b[1;32m\"<ipython-input-29-b1b42f1f0a27>\"\u001b[1;36m, line \u001b[1;32m4\u001b[0m\n\u001b[1;33m    def(a)\u001b[0m\n\u001b[1;37m       ^\u001b[0m\n\u001b[1;31mSyntaxError\u001b[0m\u001b[1;31m:\u001b[0m invalid syntax\n"
     ]
    }
   ],
   "source": [
    "data='hello man how are you'\n",
    "a=data[2:5]\n",
    "print(a)\n",
    "def(a)"
   ]
  },
  {
   "cell_type": "code",
   "execution_count": 33,
   "metadata": {},
   "outputs": [
    {
     "name": "stdout",
     "output_type": "stream",
     "text": [
      "how are you ? \n"
     ]
    }
   ],
   "source": [
    "print('how are you ? ')"
   ]
  },
  {
   "cell_type": "code",
   "execution_count": 37,
   "metadata": {},
   "outputs": [
    {
     "name": "stdout",
     "output_type": "stream",
     "text": [
      "hello, My friends\n",
      "\n",
      "How are You?\n"
     ]
    }
   ],
   "source": [
    "a=open('hello.txt')\n",
    "for b in a:\n",
    "     print(b)"
   ]
  },
  {
   "cell_type": "code",
   "execution_count": 38,
   "metadata": {},
   "outputs": [
    {
     "name": "stdout",
     "output_type": "stream",
     "text": [
      "hello, My friends\n",
      "How are You?\n"
     ]
    }
   ],
   "source": [
    "a=open('hello.txt')\n",
    "b=a.read()\n",
    "print(b)"
   ]
  },
  {
   "cell_type": "code",
   "execution_count": 2,
   "metadata": {},
   "outputs": [
    {
     "name": "stdout",
     "output_type": "stream",
     "text": [
      "[1, 2, 3]\n"
     ]
    }
   ],
   "source": [
    "print([1,2,3])"
   ]
  },
  {
   "cell_type": "code",
   "execution_count": 9,
   "metadata": {},
   "outputs": [
    {
     "name": "stdout",
     "output_type": "stream",
     "text": [
      "Hello surjo\n",
      "Hello mama\n",
      "Hello khala\n",
      "bb\n"
     ]
    }
   ],
   "source": [
    "for i in ['surjo','mama','khala']:\n",
    "    print('Hello',i)\n",
    "friends=['aa','bb','cc']\n",
    "print(friends[1])"
   ]
  },
  {
   "cell_type": "code",
   "execution_count": 10,
   "metadata": {},
   "outputs": [
    {
     "name": "stdout",
     "output_type": "stream",
     "text": [
      "range(0, 4)\n"
     ]
    }
   ],
   "source": [
    "print(range(4))"
   ]
  },
  {
   "cell_type": "code",
   "execution_count": 12,
   "metadata": {},
   "outputs": [
    {
     "data": {
      "text/plain": [
       "[12, 3, 4, 5]"
      ]
     },
     "execution_count": 12,
     "metadata": {},
     "output_type": "execute_result"
    }
   ],
   "source": [
    "t=[12,3,4,5,1,23]\n",
    "t[1:4]\n",
    "t[:4]"
   ]
  },
  {
   "cell_type": "code",
   "execution_count": 16,
   "metadata": {},
   "outputs": [
    {
     "name": "stdout",
     "output_type": "stream",
     "text": [
      "['book', 'ads']\n",
      "ads\n"
     ]
    }
   ],
   "source": [
    "s=list()\n",
    "s.append('book')\n",
    "s.append('ads')\n",
    "print(s)\n",
    "s.sort()\n",
    "print(s[0])"
   ]
  },
  {
   "cell_type": "code",
   "execution_count": 19,
   "metadata": {},
   "outputs": [
    {
     "name": "stdout",
     "output_type": "stream",
     "text": [
      "23\n",
      "1\n",
      "48\n",
      "8.0\n"
     ]
    }
   ],
   "source": [
    "t=[12,3,4,5,1,23]\n",
    "print(max(t))\n",
    "print(min(t))\n",
    "print(sum(t))\n",
    "print(sum(t)/len(t))"
   ]
  },
  {
   "cell_type": "code",
   "execution_count": 21,
   "metadata": {},
   "outputs": [
    {
     "name": "stdout",
     "output_type": "stream",
     "text": [
      "['hello', 'how', 'are', 'you']\n"
     ]
    }
   ],
   "source": [
    "string='hello  how are you'\n",
    "a=string.split()\n",
    "print(a)"
   ]
  },
  {
   "cell_type": "code",
   "execution_count": 23,
   "metadata": {},
   "outputs": [
    {
     "name": "stdout",
     "output_type": "stream",
     "text": [
      "{'money': 10, 'candy': 1, 'juice': 5}\n"
     ]
    }
   ],
   "source": [
    "purse=dict()\n",
    "purse['money']=10\n",
    "purse['candy']=1\n",
    "purse['juice']=5\n",
    "print(purse)"
   ]
  },
  {
   "cell_type": "code",
   "execution_count": 24,
   "metadata": {},
   "outputs": [
    {
     "name": "stdout",
     "output_type": "stream",
     "text": [
      "{'money': 10, 'candy': 5}\n"
     ]
    }
   ],
   "source": [
    "purse={'money':10,'candy':5}\n",
    "print(purse)"
   ]
  },
  {
   "cell_type": "code",
   "execution_count": 27,
   "metadata": {},
   "outputs": [
    {
     "name": "stdout",
     "output_type": "stream",
     "text": [
      "{'shuvo': 2, 'surjo': 1, 'ammu': 1, 'abbu': 1}\n"
     ]
    }
   ],
   "source": [
    "count=dict()\n",
    "name=['shuvo','surjo','ammu','abbu','shuvo']\n",
    "for i in name:\n",
    "    if i not in count:\n",
    "        count[i]=1\n",
    "    else:\n",
    "        count[i]=count[i]+1\n",
    "print(count)        "
   ]
  },
  {
   "cell_type": "code",
   "execution_count": null,
   "metadata": {},
   "outputs": [],
   "source": []
  }
 ],
 "metadata": {
  "kernelspec": {
   "display_name": "Python 3",
   "language": "python",
   "name": "python3"
  },
  "language_info": {
   "codemirror_mode": {
    "name": "ipython",
    "version": 3
   },
   "file_extension": ".py",
   "mimetype": "text/x-python",
   "name": "python",
   "nbconvert_exporter": "python",
   "pygments_lexer": "ipython3",
   "version": "3.7.6"
  }
 },
 "nbformat": 4,
 "nbformat_minor": 4
}
